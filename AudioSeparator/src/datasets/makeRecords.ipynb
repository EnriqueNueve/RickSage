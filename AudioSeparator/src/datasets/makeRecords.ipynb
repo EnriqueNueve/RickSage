{
 "cells": [
  {
   "cell_type": "markdown",
   "id": "6c3cc981",
   "metadata": {},
   "source": [
    "\n",
    "# TF Record Pipeline for Audio Seperation"
   ]
  },
  {
   "cell_type": "code",
   "execution_count": 1,
   "id": "ec770d54",
   "metadata": {},
   "outputs": [],
   "source": [
    "import os\n",
    "import glob\n",
    "import multiprocessing as mp\n",
    "from itertools import repeat\n",
    "\n",
    "import random\n",
    "from random import normalvariate\n",
    "\n",
    "import numpy as np \n",
    "import tensorflow as tf \n",
    "\n",
    "import librosa\n",
    "import sounddevice as sd\n",
    "\n",
    "import matplotlib.pyplot as plt \n",
    "import seaborn as sns"
   ]
  },
  {
   "cell_type": "code",
   "execution_count": 2,
   "id": "1af87bc0",
   "metadata": {},
   "outputs": [],
   "source": [
    "AUTOTUNE = tf.data.experimental.AUTOTUNE\n",
    "SAMPLERATE_HZ = 8000"
   ]
  },
  {
   "cell_type": "code",
   "execution_count": 3,
   "id": "6ca99f02",
   "metadata": {},
   "outputs": [],
   "source": [
    "def _bytes_feature(value):\n",
    "    \"\"\"Returns a bytes_list from a string / byte.\"\"\"\n",
    "    if isinstance(value, type(tf.constant(0))):\n",
    "        value = value.numpy()  # BytesList won't unpack a string from an EagerTensor.\n",
    "    return tf.train.Feature(bytes_list=tf.train.BytesList(value=[value]))\n",
    "\n",
    "def _int64_feature(value):\n",
    "    \"\"\"Returns an int64_list from a bool / enum / int / uint.\"\"\"\n",
    "    return tf.train.Feature(int64_list=tf.train.Int64List(value=[value]))\n",
    "\n",
    "def _float_feature(list_of_floats):  # float32\n",
    "    return tf.train.Feature(float_list=tf.train.FloatList(value=list_of_floats))\n",
    "\n",
    "def to_tfrecord(mix, source):\n",
    "    n_source = np.array(source.shape[0])\n",
    "    feature = {\n",
    "        'mix': _bytes_feature(mix.tobytes()),\n",
    "        'source': _bytes_feature(source.tobytes()),\n",
    "        'n_source': _int64_feature(n_source)\n",
    "    }\n",
    "    return tf.train.Example(features=tf.train.Features(feature=feature))\n",
    "\n",
    "def chunks(l, n):\n",
    "    n = max(1, n)\n",
    "    return [l[i:i+n] for i in range(0, len(l), n)]"
   ]
  },
  {
   "cell_type": "markdown",
   "id": "8d0eb31d",
   "metadata": {},
   "source": [
    "## Fuss\n",
    "* Duration: 10 seconds\n",
    "* Length: 80000 at sample rate of 8000 Hz\n",
    "* Cut length for model is 79872\n",
    "* Domain: [-1,1]\n",
    "* Training: 20000\n",
    "* Val: 1000\n",
    "* Eval: 1000\n"
   ]
  },
  {
   "cell_type": "code",
   "execution_count": 4,
   "id": "bd16f5ce",
   "metadata": {},
   "outputs": [
    {
     "name": "stdout",
     "output_type": "stream",
     "text": [
      "Number of train sample: 20000\n",
      "Number of val sample: 1000\n",
      "Number of eval sample: 1000\n"
     ]
    }
   ],
   "source": [
    "fuss_path = 'fuss'\n",
    "fuss_eval = fuss_path+'/eval'\n",
    "fuss_train = fuss_path+'/train'\n",
    "fuss_validation = fuss_path+'/validation'\n",
    "\n",
    "eval_source_file_paths = glob.glob(fuss_eval+\"/*/\")\n",
    "eval_source_file_paths.sort()\n",
    "\n",
    "eval_mix_audio_paths = glob.glob(fuss_eval+\"/*.wav\")\n",
    "eval_mix_audio_paths.sort()\n",
    "\n",
    "train_source_file_paths = glob.glob(fuss_train+\"/*/\")\n",
    "train_source_file_paths.sort()\n",
    "\n",
    "train_mix_audio_paths = glob.glob(fuss_train+\"/*.wav\")\n",
    "train_mix_audio_paths.sort()\n",
    "\n",
    "validation_source_file_paths = glob.glob(fuss_validation+\"/*/\")\n",
    "validation_source_file_paths.sort()\n",
    "\n",
    "validation_mix_audio_paths = glob.glob(fuss_validation+\"/*.wav\")\n",
    "validation_mix_audio_paths.sort()\n",
    "\n",
    "print(\"Number of train sample: {}\".format(len(train_mix_audio_paths)))\n",
    "print(\"Number of val sample: {}\".format(len(validation_mix_audio_paths)))\n",
    "print(\"Number of eval sample: {}\".format(len(eval_mix_audio_paths)))"
   ]
  },
  {
   "cell_type": "code",
   "execution_count": null,
   "id": "e50567ed",
   "metadata": {},
   "outputs": [],
   "source": [
    "fuss_sample_data, _ = librosa.load(eval_mix_audio_paths[10], sr=SAMPLERATE_HZ)\n",
    "sd.play(fuss_sample_data, SAMPLERATE_HZ)\n",
    "status = sd.wait()"
   ]
  },
  {
   "cell_type": "code",
   "execution_count": null,
   "id": "4f8d8f7c",
   "metadata": {},
   "outputs": [],
   "source": [
    "plt.plot(range(fuss_sample_data.shape[0]),fuss_sample_data)\n",
    "plt.title('Fuss Sample Data')"
   ]
  },
  {
   "cell_type": "code",
   "execution_count": null,
   "id": "e8c11b45",
   "metadata": {},
   "outputs": [],
   "source": [
    "for i,s in enumerate(train_mix_audio_paths[:20]):\n",
    "    fuss_sample_data, _ = librosa.load(s, sr=SAMPLERATE_HZ)\n",
    "    print(\"{}: max = {:.4f}, min = {:.4f}, duration = {}, length = {}\".format(i,np.max(fuss_sample_data),np.min(fuss_sample_data),librosa.get_duration(fuss_sample_data,sr=SAMPLERATE_HZ),fuss_sample_data.shape[0]))"
   ]
  },
  {
   "cell_type": "code",
   "execution_count": null,
   "id": "8a745b07",
   "metadata": {},
   "outputs": [],
   "source": [
    "def writeRecordFuss(source_file_paths,index,tf_path):\n",
    "    with tf.io.TFRecordWriter(tf_path+'/'+str(index)+'.tfrecord') as out:\n",
    "        for folder_path in source_file_paths:\n",
    "            mix_wav_path = folder_path.split(\"_\")[0]+\".wav\"\n",
    "            source_file_paths = glob.glob(folder_path+'/*.wav')\n",
    "            source_file_paths.sort()\n",
    "\n",
    "            # Load mixed sample \n",
    "            mix_audio, _ = librosa.load(mix_wav_path, sr=SAMPLERATE_HZ)\n",
    "            mix_audio = mix_audio[:79872]\n",
    "\n",
    "            # Load source samples\n",
    "            source_sounds = []\n",
    "            for source_path in source_file_paths:\n",
    "                source_audio, _ = librosa.load(source_path, sr=SAMPLERATE_HZ)\n",
    "                source_sounds.append(source_audio[:79872])\n",
    "\n",
    "            # Add dummy source samples if needed\n",
    "            if len(source_sounds) != 4:\n",
    "                for i in range(4-len(source_sounds)):\n",
    "                    dummy_source = np.zeros((79872,),dtype='float32')\n",
    "                    source_sounds.append(dummy_source)\n",
    "            source = np.stack(source_sounds)\n",
    "\n",
    "            # Encode [mix, source] pair to TFRecord format\n",
    "            example = to_tfrecord(mix_audio, source)\n",
    "            # Write serialized example to TFRecord file\n",
    "            out.write(example.SerializeToString())"
   ]
  },
  {
   "cell_type": "code",
   "execution_count": null,
   "id": "39c89f02",
   "metadata": {},
   "outputs": [],
   "source": [
    "# Make tf Record for val \n",
    "validation_source_file_paths_cuts = chunks(validation_source_file_paths,100)\n",
    "val_index = list(range(len(validation_source_file_paths_cuts)))\n",
    "\n",
    "with mp.Pool(processes=mp.cpu_count()) as pool:\n",
    "    pool.starmap(writeRecordFuss, zip(validation_source_file_paths_cuts,val_index,repeat(fuss_path+'/tf_val')))"
   ]
  },
  {
   "cell_type": "code",
   "execution_count": null,
   "id": "d9a2146f",
   "metadata": {},
   "outputs": [],
   "source": [
    "# Make tf Record for eval\n",
    "eval_source_file_paths_cuts = chunks(eval_source_file_paths,100)\n",
    "eval_index = list(range(len(eval_source_file_paths_cuts)))\n",
    "\n",
    "with mp.Pool(processes=mp.cpu_count()) as pool:\n",
    "    pool.starmap(writeRecordFuss, zip(eval_source_file_paths_cuts,eval_index,repeat(fuss_path+'/tf_eval')))"
   ]
  },
  {
   "cell_type": "code",
   "execution_count": null,
   "id": "cfba0618",
   "metadata": {},
   "outputs": [],
   "source": [
    "# Make tf Record for train\n",
    "train_source_file_paths_cuts = chunks(train_source_file_paths,100)\n",
    "train_index = list(range(len(train_source_file_paths_cuts)))\n",
    "\n",
    "with mp.Pool(processes=mp.cpu_count()) as pool:\n",
    "    pool.starmap(writeRecordFuss, zip(train_source_file_paths_cuts,train_index,repeat(fuss_path+'/tf_train')))"
   ]
  },
  {
   "cell_type": "markdown",
   "id": "4da95860",
   "metadata": {},
   "source": [
    "## Read tfRecord of Fuss"
   ]
  },
  {
   "cell_type": "code",
   "execution_count": null,
   "id": "b2311f73",
   "metadata": {},
   "outputs": [],
   "source": [
    "def tf_shuffle_axis(value, rank, axis=0, seed=None, name=None):\n",
    "    perm = list(range(rank))\n",
    "    perm[axis], perm[0] = perm[0], perm[axis]\n",
    "    value = tf.random.shuffle(tf.transpose(value, perm=perm))\n",
    "    value = tf.transpose(value, perm=perm)\n",
    "    return value\n",
    "\n",
    "##############################\n",
    "\n",
    "def parse_tfrecord(example,batch_size):\n",
    "    feature_description = {\n",
    "        'mix': tf.io.FixedLenFeature([], tf.string),\n",
    "        'source': tf.io.FixedLenFeature([], tf.string),\n",
    "        'n_source': tf.io.FixedLenFeature([], tf.int64),\n",
    "    }\n",
    "    \n",
    "    example = tf.io.parse_example(example, feature_description)\n",
    "    \n",
    "    mix = tf.io.decode_raw(\n",
    "        example['mix'], out_type='float32', little_endian=True, fixed_length=None, name=None\n",
    "    )\n",
    "    \n",
    "    source = tf.io.decode_raw(\n",
    "        example['source'], out_type='float32', little_endian=True, fixed_length=None, name=None\n",
    "    )\n",
    "    \n",
    "    source = tf.reshape(source,(batch_size,4,-1)) \n",
    "    source = tf_shuffle_axis(source,3,axis=1)\n",
    "    \n",
    "    return (mix, source)\n",
    "\n",
    "##############################\n",
    "\n",
    "def getDatasetFuss(record_files,AUTO,batch_size=2):\n",
    "    \"\"\" Loads tfRecord files\n",
    "    Parameters\n",
    "    ----------\n",
    "    record_files : str or list of str\n",
    "        paths of tfRecord files\n",
    "    Returns\n",
    "    -------\n",
    "    tf.data.Dataset\n",
    "        data loader for keras model\n",
    "    \"\"\"\n",
    "    \n",
    "    # Disregard data order in favor of reading speed\n",
    "    files_ds = tf.data.Dataset.list_files(record_files)\n",
    "    ignore_order = tf.data.Options()\n",
    "    ignore_order.experimental_deterministic = False\n",
    "    files_ds = files_ds.with_options(ignore_order)\n",
    "\n",
    "    dataset = tf.data.TFRecordDataset(files_ds, num_parallel_reads=AUTO)\n",
    "    dataset = dataset.batch(batch_size)\n",
    "    dataset = dataset.map(lambda x: parse_tfrecord(x,batch_size), num_parallel_calls=AUTO)\n",
    "                                      \n",
    "    return dataset.prefetch(buffer_size=AUTO)"
   ]
  },
  {
   "cell_type": "code",
   "execution_count": null,
   "id": "a686933a",
   "metadata": {},
   "outputs": [],
   "source": [
    "sample_dataset = getDatasetFuss(glob.glob(fuss_path+'/tf_eval/*.tfrecord'),AUTOTUNE,batch_size=2)\n",
    "print(sample_dataset)"
   ]
  },
  {
   "cell_type": "code",
   "execution_count": null,
   "id": "7574cfdf",
   "metadata": {},
   "outputs": [],
   "source": [
    "for sample in sample_dataset.take(1):\n",
    "    mix, source = sample\n",
    "    print(mix.shape)\n",
    "    print(source.shape)"
   ]
  },
  {
   "cell_type": "code",
   "execution_count": null,
   "id": "f9b4208c",
   "metadata": {},
   "outputs": [],
   "source": [
    "sd.play(mix[0,:], SAMPLERATE_HZ)\n",
    "status = sd.wait()\n",
    "\n",
    "plt.plot(range(mix.shape[1]),mix[0,:])\n",
    "plt.title('Mix Sample Data')"
   ]
  },
  {
   "cell_type": "code",
   "execution_count": null,
   "id": "33e3e1e9",
   "metadata": {},
   "outputs": [],
   "source": [
    "sd.play(source[0,0,:], SAMPLERATE_HZ)\n",
    "status = sd.wait()\n",
    "\n",
    "plt.plot(range(source.shape[2]),source[0,0,:])\n",
    "plt.title('Source 1 Sample Data')"
   ]
  },
  {
   "cell_type": "code",
   "execution_count": null,
   "id": "79e4a988",
   "metadata": {},
   "outputs": [],
   "source": [
    "sd.play(source[0,1,:], SAMPLERATE_HZ)\n",
    "status = sd.wait()\n",
    "\n",
    "plt.plot(range(source.shape[2]),source[0,1,:])\n",
    "plt.title('Source 2 Sample Data')"
   ]
  },
  {
   "cell_type": "code",
   "execution_count": null,
   "id": "c8349002",
   "metadata": {},
   "outputs": [],
   "source": [
    "sd.play(source[0,2,:], SAMPLERATE_HZ)\n",
    "status = sd.wait()\n",
    "\n",
    "plt.plot(range(source.shape[2]),source[0,2,:])\n",
    "plt.title('Source 3 Sample Data')"
   ]
  },
  {
   "cell_type": "code",
   "execution_count": null,
   "id": "7a6c804f",
   "metadata": {},
   "outputs": [],
   "source": [
    "sd.play(source[0,3,:], SAMPLERATE_HZ)\n",
    "status = sd.wait()\n",
    "\n",
    "plt.plot(range(source.shape[2]),source[0,3,:])\n",
    "plt.title('Source 4 Sample Data')"
   ]
  },
  {
   "cell_type": "code",
   "execution_count": null,
   "id": "ccd4ba67",
   "metadata": {},
   "outputs": [],
   "source": [
    "fig, (ax1, ax2) = plt.subplots(1, 2)\n",
    "fig.suptitle('Summed Source | Orginal Mixed')\n",
    "ax1.plot(range(source.shape[2]),np.sum(source[0,:,:],axis=0))\n",
    "ax2.plot(range(mix.shape[1]),mix[0,:])"
   ]
  },
  {
   "cell_type": "markdown",
   "id": "16ad98e1",
   "metadata": {},
   "source": [
    "## Make tfRecord Sudo Dynamic Mixing dataset for Fuss"
   ]
  },
  {
   "cell_type": "code",
   "execution_count": 10,
   "id": "6d958f9c",
   "metadata": {},
   "outputs": [],
   "source": [
    "fuss_path = 'fuss'\n",
    "fuss_train = fuss_path+'/train'\n",
    "\n",
    "train_source_file_paths = glob.glob(fuss_train+\"/*/\")\n",
    "\n",
    "all_files = []\n",
    "for dir_path in train_source_file_paths:\n",
    "    for file in os.listdir(dir_path):\n",
    "        all_files.append(dir_path+file)\n",
    "\n",
    "background_paths = [k for k in all_files if 'background' in k]\n",
    "foreground_paths = [k for k in all_files if 'foreground' in k]\n",
    "\n",
    "background_paths.sort()\n",
    "foreground_paths.sort()"
   ]
  },
  {
   "cell_type": "code",
   "execution_count": 11,
   "id": "7a7422d9",
   "metadata": {},
   "outputs": [
    {
     "name": "stdout",
     "output_type": "stream",
     "text": [
      "Number of background samples: 20000\n",
      "fuss/train/example00000_sources/background0_sound.wav\n",
      "fuss/train/example00001_sources/background0_sound.wav\n",
      "fuss/train/example00002_sources/background0_sound.wav\n",
      "fuss/train/example00003_sources/background0_sound.wav\n",
      "fuss/train/example00004_sources/background0_sound.wav\n",
      "fuss/train/example00005_sources/background0_sound.wav\n",
      "fuss/train/example00006_sources/background0_sound.wav\n",
      "fuss/train/example00007_sources/background0_sound.wav\n",
      "fuss/train/example00008_sources/background0_sound.wav\n",
      "fuss/train/example00009_sources/background0_sound.wav\n"
     ]
    }
   ],
   "source": [
    "print('Number of background samples: {}'.format(len(background_paths)))\n",
    "for path in background_paths[:10]:\n",
    "    print(path)"
   ]
  },
  {
   "cell_type": "code",
   "execution_count": 12,
   "id": "9107ffae",
   "metadata": {},
   "outputs": [
    {
     "name": "stdout",
     "output_type": "stream",
     "text": [
      "Number of foreground samples: 30067\n",
      "fuss/train/example00000_sources/foreground0_sound.wav\n",
      "fuss/train/example00000_sources/foreground1_sound.wav\n",
      "fuss/train/example00000_sources/foreground2_sound.wav\n",
      "fuss/train/example00001_sources/foreground0_sound.wav\n",
      "fuss/train/example00001_sources/foreground1_sound.wav\n",
      "fuss/train/example00002_sources/foreground0_sound.wav\n",
      "fuss/train/example00003_sources/foreground0_sound.wav\n",
      "fuss/train/example00003_sources/foreground1_sound.wav\n",
      "fuss/train/example00003_sources/foreground2_sound.wav\n",
      "fuss/train/example00004_sources/foreground0_sound.wav\n"
     ]
    }
   ],
   "source": [
    "print('Number of foreground samples: {}'.format(len(foreground_paths)))\n",
    "for path in foreground_paths[:10]:\n",
    "    print(path)"
   ]
  },
  {
   "cell_type": "code",
   "execution_count": 15,
   "id": "ff9233bd",
   "metadata": {},
   "outputs": [],
   "source": [
    "def pad_along_axis(array: np.ndarray, target_length: int, axis: int = 0):\n",
    "    pad_size = target_length - array.shape[axis]\n",
    "    if pad_size <= 0:\n",
    "        return array\n",
    "    npad = [(0, 0)] * array.ndim\n",
    "    npad[axis] = (0, pad_size)\n",
    "    return np.pad(array, pad_width=npad, mode=\"constant\", constant_values=0)\n",
    "\n",
    "def to_tfrecord_dm(background_samples,foreground_samples):\n",
    "    n_source = int(np.array(foreground_samples.shape[0]))\n",
    "    feature = {\n",
    "        'background': _bytes_feature(background_samples.tobytes()),\n",
    "        'foreground': _bytes_feature(foreground_samples.tobytes()),\n",
    "        'n_source': _int64_feature(n_source)\n",
    "    }\n",
    "    return tf.train.Example(features=tf.train.Features(feature=feature))\n",
    "\n",
    "def writeRecordFussSudoEfficientDM(background_paths, foreground_paths, index, tf_path):\n",
    "    with tf.io.TFRecordWriter(tf_path+'/'+str(index)+'.tfrecord') as out:\n",
    "        for i, background_path in enumerate(background_paths):\n",
    "            # Load data and apply time speed augment between .95 and 1.05\n",
    "            foreground_sample_paths = random.sample(foreground_paths, 3) \n",
    "            \n",
    "            background_sample, _ = librosa.load(background_path, sr=8000)\n",
    "            background_sample = librosa.effects.time_stretch(background_sample,random.uniform(.95,1.05))\n",
    "            if len(background_sample) < 79872: #pad\n",
    "                background_sample = pad_along_axis(background_sample,79872)\n",
    "            elif len(background_sample) > 79872: # cut \n",
    "                background_sample = background_sample[:79872]\n",
    "\n",
    "            foreground_sample_1, _ = librosa.load(foreground_sample_paths[0], sr=8000)\n",
    "            foreground_sample_1 = librosa.effects.time_stretch(foreground_sample_1,random.uniform(.95,1.05))\n",
    "            if len(foreground_sample_1) < 79872: #pad\n",
    "                foreground_sample_1 = pad_along_axis(foreground_sample_1,79872)\n",
    "            elif len(foreground_sample_1) > 79872: # cut \n",
    "                foreground_sample_1 = foreground_sample_1[:79872]\n",
    "            \n",
    "            foreground_sample_2, _ = librosa.load(foreground_sample_paths[1], sr=8000)\n",
    "            foreground_sample_2 = librosa.effects.time_stretch(foreground_sample_2,random.uniform(.95,1.05))\n",
    "            if len(foreground_sample_2) < 79872: #pad\n",
    "                foreground_sample_2 = pad_along_axis(foreground_sample_2,79872)\n",
    "            elif len(foreground_sample_2) > 79872: # cut \n",
    "                foreground_sample_2 = foreground_sample_2[:79872]\n",
    "\n",
    "            foreground_sample_3, _ = librosa.load(foreground_sample_paths[2], sr=8000)\n",
    "            foreground_sample_3 = librosa.effects.time_stretch(foreground_sample_3,random.uniform(.95,1.05))\n",
    "            if len(foreground_sample_3) < 79872: #pad\n",
    "                foreground_sample_3 = pad_along_axis(foreground_sample_3,79872)\n",
    "            elif len(foreground_sample_3) > 79872: # cut \n",
    "                foreground_sample_3 = foreground_sample_3[:79872]\n",
    "            \n",
    "            # Shape data \n",
    "            foreground_samples = np.stack([foreground_sample_1,foreground_sample_2,foreground_sample_3])\n",
    "            \n",
    "            # Encode [source] to TFRecord format\n",
    "            example = to_tfrecord_dm(background_sample,foreground_samples)\n",
    "            # Write serialized example to TFRecord file\n",
    "            out.write(example.SerializeToString())"
   ]
  },
  {
   "cell_type": "code",
   "execution_count": 16,
   "id": "820a65ae",
   "metadata": {},
   "outputs": [],
   "source": [
    "n_samples = 1000\n",
    "train_dm_index = list(range(n_samples//100))\n",
    "background_path_batches, foreground_path_batches = [], []\n",
    "for i in range(n_samples//100):\n",
    "    background_path_batches.append(random.sample(background_paths,100))\n",
    "    foreground_path_batches.append(random.sample(foreground_paths,100))\n",
    "\n",
    "# Make tf Record for train sudo efficient DM\n",
    "with mp.Pool(processes=mp.cpu_count()) as pool:\n",
    "    pool.starmap(writeRecordFussSudoEfficientDM, zip(background_path_batches,\\\n",
    "                foreground_path_batches,train_dm_index,repeat(fuss_path+'/tf_train_dm')))"
   ]
  },
  {
   "cell_type": "markdown",
   "id": "903c1704",
   "metadata": {},
   "source": [
    "## Read tfRecord of Fuss for train on DM"
   ]
  },
  {
   "cell_type": "code",
   "execution_count": 42,
   "id": "f673080b",
   "metadata": {},
   "outputs": [],
   "source": [
    "def tf_shuffle_axis(value, rank, axis=0, seed=None, name=None):\n",
    "    perm = list(range(rank))\n",
    "    perm[axis], perm[0] = perm[0], perm[axis]\n",
    "    value = tf.random.shuffle(tf.transpose(value, perm=perm))\n",
    "    value = tf.transpose(value, perm=perm)\n",
    "    return value\n",
    "\n",
    "def parse_tfrecord_fuss_dm(example,batch_size):\n",
    "    feature_description = {\n",
    "        'background': tf.io.FixedLenFeature([], tf.string),\n",
    "        'foreground': tf.io.FixedLenFeature([], tf.string),\n",
    "        'n_source': tf.io.FixedLenFeature([], tf.int64),\n",
    "    }\n",
    "\n",
    "    example = tf.io.parse_example(example, feature_description)\n",
    "    \n",
    "    background = tf.io.decode_raw(\n",
    "        example['background'], out_type='float32', little_endian=True, fixed_length=None, name=None\n",
    "    )\n",
    "    \n",
    "    foreground = tf.io.decode_raw(\n",
    "        example['foreground'], out_type='float32', little_endian=True, fixed_length=None, name=None\n",
    "    )\n",
    "    \n",
    "    # Appply Dynamix mixing \n",
    "    foreground = tf.reshape(foreground,(batch_size*3,-1)) \n",
    "    foreground_mask = tf.transpose(tf.random.categorical(tf.math.log([[0.5, 0.5]]),batch_size*3))\n",
    "    foreground_mask = tf.cast(foreground_mask,dtype='float32')\n",
    "    foreground *= foreground_mask\n",
    "    foreground = tf.reshape(foreground,(batch_size,3,-1))\n",
    "    \n",
    "    background = tf.reshape(background,(batch_size,1,-1))\n",
    "    \n",
    "    # Shuffle foreground and background on each sample within batch \n",
    "    source = tf.concat([foreground,background], axis=1)\n",
    "    source = tf_shuffle_axis(source,3,axis=1)\n",
    "    \n",
    "    # Apply gain \n",
    "    gain = tf.random.uniform((batch_size,4,1),-1,1)\n",
    "    source *= gain\n",
    "    \n",
    "    # Form mix and scale\n",
    "    mixture = tf.math.reduce_sum(source,axis=1)\n",
    "    max_amp = tf.math.reduce_max(mixture)\n",
    "    mix_scaling = 1/max_amp*.9\n",
    "    source = mix_scaling*source\n",
    "    mixture = mix_scaling*mixture\n",
    "    return tf.clip_by_value(mixture,-1,1), tf.clip_by_value(source,-1,1)\n",
    "    \n",
    "def getDatasetFussDM(record_files,AUTO,batch_size=2):\n",
    "    \"\"\" Loads tfRecord files\n",
    "    Parameters\n",
    "    ----------\n",
    "    record_files : str or list of str\n",
    "        paths of tfRecord files\n",
    "    Returns\n",
    "    -------\n",
    "    tf.data.Dataset\n",
    "        data loader for keras model\n",
    "    \"\"\"\n",
    "    \n",
    "    # Disregard data order in favor of reading speed\n",
    "    files_ds = tf.data.Dataset.list_files(record_files)\n",
    "    ignore_order = tf.data.Options()\n",
    "    ignore_order.experimental_deterministic = False\n",
    "    files_ds = files_ds.with_options(ignore_order)\n",
    "\n",
    "    dataset = tf.data.TFRecordDataset(files_ds, num_parallel_reads=AUTO)\n",
    "    dataset = dataset.batch(batch_size)\n",
    "    dataset = dataset.map(lambda x: parse_tfrecord_fuss_dm(x,batch_size), num_parallel_calls=AUTO)\n",
    "                                      \n",
    "    return dataset.prefetch(buffer_size=AUTO)"
   ]
  },
  {
   "cell_type": "code",
   "execution_count": 43,
   "id": "a83910ff",
   "metadata": {},
   "outputs": [
    {
     "name": "stdout",
     "output_type": "stream",
     "text": [
      "<PrefetchDataset shapes: ((2, None), (2, 4, None)), types: (tf.float32, tf.float32)>\n"
     ]
    }
   ],
   "source": [
    "sample_dataset = getDatasetFussDM(glob.glob(fuss_path+'/tf_train_dm/*.tfrecord'),AUTOTUNE,batch_size=2)\n",
    "print(sample_dataset)"
   ]
  },
  {
   "cell_type": "code",
   "execution_count": 51,
   "id": "cf3ad3da",
   "metadata": {},
   "outputs": [
    {
     "name": "stdout",
     "output_type": "stream",
     "text": [
      "(2, 79872)\n",
      "(2, 4, 79872)\n"
     ]
    }
   ],
   "source": [
    "for sample in sample_dataset.take(1):\n",
    "    mix, source = sample\n",
    "    print(mix.shape)\n",
    "    print(source.shape)"
   ]
  },
  {
   "cell_type": "code",
   "execution_count": 52,
   "id": "be972895",
   "metadata": {},
   "outputs": [
    {
     "data": {
      "text/plain": [
       "Text(0.5, 1.0, 'Mix Sample Data')"
      ]
     },
     "execution_count": 52,
     "metadata": {},
     "output_type": "execute_result"
    },
    {
     "data": {
      "image/png": "[encoded data removed]",
      "text/plain": [
       "<Figure size 432x288 with 1 Axes>"
      ]
     },
     "metadata": {
      "needs_background": "light"
     },
     "output_type": "display_data"
    }
   ],
   "source": [
    "sd.play(mix[0,:], SAMPLERATE_HZ)\n",
    "status = sd.wait()\n",
    "\n",
    "plt.plot(range(mix.shape[1]),mix[0,:])\n",
    "plt.title('Mix Sample Data')"
   ]
  },
  {
   "cell_type": "code",
   "execution_count": 53,
   "id": "9a564329",
   "metadata": {},
   "outputs": [
    {
     "data": {
      "text/plain": [
       "Text(0.5, 1.0, 'Source 1 Sample Data')"
      ]
     },
     "execution_count": 53,
     "metadata": {},
     "output_type": "execute_result"
    },
    {
     "data": {
      "image/png": "[encoded data removed]",
      "text/plain": [
       "<Figure size 432x288 with 1 Axes>"
      ]
     },
     "metadata": {
      "needs_background": "light"
     },
     "output_type": "display_data"
    }
   ],
   "source": [
    "sd.play(source[0,0,:], SAMPLERATE_HZ)\n",
    "status = sd.wait()\n",
    "\n",
    "plt.plot(range(source.shape[2]),source[0,0,:])\n",
    "plt.title('Source 1 Sample Data')"
   ]
  },
  {
   "cell_type": "code",
   "execution_count": 54,
   "id": "a427ad0c",
   "metadata": {},
   "outputs": [
    {
     "data": {
      "text/plain": [
       "Text(0.5, 1.0, 'Source 2 Sample Data')"
      ]
     },
     "execution_count": 54,
     "metadata": {},
     "output_type": "execute_result"
    },
    {
     "data": {
      "image/png": "[encoded data removed]",
      "text/plain": [
       "<Figure size 432x288 with 1 Axes>"
      ]
     },
     "metadata": {
      "needs_background": "light"
     },
     "output_type": "display_data"
    }
   ],
   "source": [
    "sd.play(source[0,1,:], SAMPLERATE_HZ)\n",
    "status = sd.wait()\n",
    "\n",
    "plt.plot(range(source.shape[2]),source[0,1,:])\n",
    "plt.title('Source 2 Sample Data')"
   ]
  },
  {
   "cell_type": "code",
   "execution_count": 55,
   "id": "c89620ad",
   "metadata": {},
   "outputs": [
    {
     "data": {
      "text/plain": [
       "Text(0.5, 1.0, 'Source 3 Sample Data')"
      ]
     },
     "execution_count": 55,
     "metadata": {},
     "output_type": "execute_result"
    },
    {
     "data": {
      "image/png": "[encoded data removed]",
      "text/plain": [
       "<Figure size 432x288 with 1 Axes>"
      ]
     },
     "metadata": {
      "needs_background": "light"
     },
     "output_type": "display_data"
    }
   ],
   "source": [
    "sd.play(source[0,2,:], SAMPLERATE_HZ)\n",
    "status = sd.wait()\n",
    "\n",
    "plt.plot(range(source.shape[2]),source[0,2,:])\n",
    "plt.title('Source 3 Sample Data')"
   ]
  },
  {
   "cell_type": "code",
   "execution_count": 56,
   "id": "3ffed51d",
   "metadata": {},
   "outputs": [
    {
     "data": {
      "text/plain": [
       "Text(0.5, 1.0, 'Source 4 Sample Data')"
      ]
     },
     "execution_count": 56,
     "metadata": {},
     "output_type": "execute_result"
    },
    {
     "data": {
      "image/png": "[encoded data removed]",
      "text/plain": [
       "<Figure size 432x288 with 1 Axes>"
      ]
     },
     "metadata": {
      "needs_background": "light"
     },
     "output_type": "display_data"
    }
   ],
   "source": [
    "sd.play(source[0,3,:], SAMPLERATE_HZ)\n",
    "status = sd.wait()\n",
    "\n",
    "plt.plot(range(source.shape[2]),source[0,3,:])\n",
    "plt.title('Source 4 Sample Data')"
   ]
  },
  {
   "cell_type": "code",
   "execution_count": 57,
   "id": "8ff10cf8",
   "metadata": {},
   "outputs": [
    {
     "data": {
      "text/plain": [
       "[<matplotlib.lines.Line2D at 0x7fc3e5ae08d0>]"
      ]
     },
     "execution_count": 57,
     "metadata": {},
     "output_type": "execute_result"
    },
    {
     "data": {
      "image/png": "[encoded data removed]",
      "text/plain": [
       "<Figure size 432x288 with 2 Axes>"
      ]
     },
     "metadata": {
      "needs_background": "light"
     },
     "output_type": "display_data"
    }
   ],
   "source": [
    "fig, (ax1, ax2) = plt.subplots(1, 2)\n",
    "fig.suptitle('Summed Source | Orginal Mixed')\n",
    "ax1.plot(range(source.shape[2]),np.sum(source[0,:,:],axis=0))\n",
    "ax2.plot(range(mix.shape[1]),mix[0,:])"
   ]
  },
  {
   "cell_type": "code",
   "execution_count": null,
   "id": "527480d4",
   "metadata": {},
   "outputs": [],
   "source": []
  },
  {
   "cell_type": "code",
   "execution_count": null,
   "id": "d75978c3",
   "metadata": {},
   "outputs": [],
   "source": []
  },
  {
   "cell_type": "code",
   "execution_count": null,
   "id": "3a9493f7",
   "metadata": {},
   "outputs": [],
   "source": []
  },
  {
   "cell_type": "code",
   "execution_count": null,
   "id": "50c3a64e",
   "metadata": {},
   "outputs": [],
   "source": []
  }
 ],
 "metadata": {
  "kernelspec": {
   "display_name": "tfp-env",
   "language": "python",
   "name": "anaconda-tfp_env"
  },
  "language_info": {
   "codemirror_mode": {
    "name": "ipython",
    "version": 3
   },
   "file_extension": ".py",
   "mimetype": "text/x-python",
   "name": "python",
   "nbconvert_exporter": "python",
   "pygments_lexer": "ipython3",
   "version": "3.6.12"
  },
  "nteract": {
   "version": "0.28.0"
  }
 },
 "nbformat": 4,
 "nbformat_minor": 5
}
