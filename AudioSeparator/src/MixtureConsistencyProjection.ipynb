{
 "cells": [
  {
   "cell_type": "markdown",
   "id": "e6fcc728",
   "metadata": {},
   "source": [
    "# Mixture Consistency Projection"
   ]
  },
  {
   "cell_type": "markdown",
   "id": "96bc919b",
   "metadata": {},
   "source": [
    "$$\n",
    "\\hat{s_m} = \\underline{s}_m + \\frac{1}{M}(x - \\sum_{m'}\\underline{s}_{m'} )\n",
    "$$\n",
    "* $x$ is mixed input source\n",
    "* $\\underline{s}_m$ is the outputted seperate sources"
   ]
  },
  {
   "cell_type": "code",
   "execution_count": 1,
   "id": "25835eff",
   "metadata": {},
   "outputs": [],
   "source": [
    "import tensorflow as tf \n",
    "import numpy as np"
   ]
  },
  {
   "cell_type": "code",
   "execution_count": 33,
   "id": "f37a0515",
   "metadata": {},
   "outputs": [],
   "source": [
    "def enforce_mixture_consistency_time_domain(mixture_waveforms,\n",
    "                                            separated_waveforms):\n",
    "    \"\"\"Projection implementing mixture consistency in time domain.\n",
    "        This projection makes the sum across sources of separated_waveforms equal\n",
    "        mixture_waveforms and minimizes the unweighted mean-squared error between the\n",
    "        sum across sources of separated_waveforms and mixture_waveforms. See\n",
    "        https://arxiv.org/abs/1811.08521 for the derivation.\n",
    "        Args:\n",
    "            mixture_waveforms: Tensor of mixture waveforms in waveform format.\n",
    "            separated_waveforms: Tensor of separated waveforms in source image format.\n",
    "        Returns:\n",
    "            Projected separated_waveforms as a Tensor in source image format.\n",
    "    \"\"\"\n",
    "    # Modify the source estimates such that they sum up to the mixture, where\n",
    "    # the mixture is defined as the sum across sources of the true source\n",
    "    # targets. Uses the least-squares solution under the constraint that the\n",
    "    # resulting source estimates add up to the mixture.\n",
    "    \n",
    "    num_sources = 4.0\n",
    "    mix_estimate = tf.reduce_sum(separated_waveforms, axis=1, keepdims=True)\n",
    "    #mix_weights = tf.reduce_mean(tf.square(separated_waveforms), axis=[1, 2],keepdims=True)\n",
    "    #mix_weights /= tf.reduce_sum(mix_weights, axis=1, keepdims=True)\n",
    "    mix_weights = (1.0 / num_sources)\n",
    "    mix_weights = tf.cast(mix_weights, tf.float32)\n",
    "    correction = mix_weights * (mixture_waveforms - mix_estimate)\n",
    "    separated_waveforms = separated_waveforms + correction\n",
    "\n",
    "    return separated_waveforms"
   ]
  },
  {
   "cell_type": "code",
   "execution_count": null,
   "id": "0d62064c",
   "metadata": {},
   "outputs": [],
   "source": []
  },
  {
   "cell_type": "code",
   "execution_count": 34,
   "id": "5dff8ce3",
   "metadata": {},
   "outputs": [
    {
     "name": "stdout",
     "output_type": "stream",
     "text": [
      "(2, 1, 3)\n",
      "(2, 2, 3)\n",
      "tf.Tensor(\n",
      "[[[0.25 0.75 2.  ]\n",
      "  [2.25 3.75 5.  ]]\n",
      "\n",
      " [[1.   1.5  2.75]\n",
      "  [3.   4.5  5.75]]], shape=(2, 2, 3), dtype=float32)\n",
      "(2, 2, 3)\n"
     ]
    }
   ],
   "source": [
    "mix_wave = tf.Variable([[1,2,3],[4,5,6]],dtype=tf.float32)\n",
    "mix_wave = tf.expand_dims(mix_wave,axis=1)\n",
    "print(mix_wave.shape)\n",
    "\n",
    "sep_wave = tf.Variable([[[1,2,4],[3,5,7]],[[1,2,4],[3,5,7]]],dtype=tf.float32)\n",
    "print(sep_wave.shape)\n",
    "\n",
    "projected_sep = enforce_mixture_consistency_time_domain(mix_wave,sep_wave)\n",
    "print(projected_sep)\n",
    "print(projected_sep.shape)"
   ]
  },
  {
   "cell_type": "code",
   "execution_count": null,
   "id": "7cf50de2",
   "metadata": {},
   "outputs": [],
   "source": []
  },
  {
   "cell_type": "code",
   "execution_count": null,
   "id": "19dc09d5",
   "metadata": {},
   "outputs": [],
   "source": []
  },
  {
   "cell_type": "code",
   "execution_count": null,
   "id": "9a618bf4",
   "metadata": {},
   "outputs": [],
   "source": []
  }
 ],
 "metadata": {
  "kernelspec": {
   "display_name": "tfp-env",
   "language": "python",
   "name": "anaconda-tfp_env"
  },
  "language_info": {
   "codemirror_mode": {
    "name": "ipython",
    "version": 3
   },
   "file_extension": ".py",
   "mimetype": "text/x-python",
   "name": "python",
   "nbconvert_exporter": "python",
   "pygments_lexer": "ipython3",
   "version": "3.6.12"
  }
 },
 "nbformat": 4,
 "nbformat_minor": 5
}
